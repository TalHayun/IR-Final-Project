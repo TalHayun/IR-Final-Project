{
  "metadata": {
    "kernelspec": {
      "name": "python",
      "display_name": "Python (Pyodide)",
      "language": "python"
    },
    "language_info": {
      "codemirror_mode": {
        "name": "python",
        "version": 3
      },
      "file_extension": ".py",
      "mimetype": "text/x-python",
      "name": "python",
      "nbconvert_exporter": "python",
      "pygments_lexer": "ipython3",
      "version": "3.8"
    }
  },
  "nbformat_minor": 4,
  "nbformat": 4,
  "cells": [
    {
      "cell_type": "code",
      "source": "# if the following command generates an error, you probably didn't enable\n# the cluster security option \"Allow API access to all Google Cloud services\"\n# under Manage Security → Project Access when setting up the cluster\n!gcloud dataproc clusters list --region us-central1",
      "metadata": {
        "collapsed": false,
        "jupyter": {
          "outputs_hidden": false
        }
      },
      "execution_count": 1,
      "outputs": [
        {
          "name": "stdout",
          "output_type": "stream",
          "text": "NAME          PLATFORM  WORKER_COUNT  PREEMPTIBLE_WORKER_COUNT  STATUS   ZONE           SCHEDULED_DELETE\n\ncluster-ae7d  GCE       5                                       RUNNING  us-central1-a\n"
        }
      ]
    },
    {
      "cell_type": "markdown",
      "source": "# Imports & Setup",
      "metadata": {}
    },
    {
      "cell_type": "code",
      "source": "!pip install -q google-cloud-storage==1.43.0\n!pip install -q graphframes",
      "metadata": {
        "collapsed": false,
        "jupyter": {
          "outputs_hidden": false
        }
      },
      "execution_count": 2,
      "outputs": [
        {
          "name": "stdout",
          "output_type": "stream",
          "text": "\u001b[33mWARNING: Running pip as the 'root' user can result in broken permissions and conflicting behaviour with the system package manager. It is recommended to use a virtual environment instead: https://pip.pypa.io/warnings/venv\u001b[0m\u001b[33m\n\n\u001b[0m\u001b[33mWARNING: Running pip as the 'root' user can result in broken permissions and conflicting behaviour with the system package manager. It is recommended to use a virtual environment instead: https://pip.pypa.io/warnings/venv\u001b[0m\u001b[33m\n\n\u001b[0m"
        }
      ]
    },
    {
      "cell_type": "code",
      "source": "!pip install -U Flask",
      "metadata": {
        "collapsed": false,
        "jupyter": {
          "outputs_hidden": false
        }
      },
      "execution_count": 3,
      "outputs": [
        {
          "name": "stdout",
          "output_type": "stream",
          "text": "Requirement already satisfied: Flask in /opt/conda/miniconda3/lib/python3.8/site-packages (2.2.2)\n\nRequirement already satisfied: importlib-metadata>=3.6.0 in /opt/conda/miniconda3/lib/python3.8/site-packages (from Flask) (5.1.0)\n\nRequirement already satisfied: click>=8.0 in /opt/conda/miniconda3/lib/python3.8/site-packages (from Flask) (8.1.3)\n\nRequirement already satisfied: Werkzeug>=2.2.2 in /opt/conda/miniconda3/lib/python3.8/site-packages (from Flask) (2.2.2)\n\nRequirement already satisfied: itsdangerous>=2.0 in /opt/conda/miniconda3/lib/python3.8/site-packages (from Flask) (2.1.2)\n\nRequirement already satisfied: Jinja2>=3.0 in /opt/conda/miniconda3/lib/python3.8/site-packages (from Flask) (3.0.3)\n\nRequirement already satisfied: zipp>=0.5 in /opt/conda/miniconda3/lib/python3.8/site-packages (from importlib-metadata>=3.6.0->Flask) (3.11.0)\n\nRequirement already satisfied: MarkupSafe>=2.0 in /opt/conda/miniconda3/lib/python3.8/site-packages (from Jinja2>=3.0->Flask) (2.1.1)\n\n\u001b[33mWARNING: Running pip as the 'root' user can result in broken permissions and conflicting behaviour with the system package manager. It is recommended to use a virtual environment instead: https://pip.pypa.io/warnings/venv\u001b[0m\u001b[33m\n\n\u001b[0m"
        }
      ]
    },
    {
      "cell_type": "code",
      "source": "# download nltk stopwords\nimport nltk\nnltk.download('stopwords')",
      "metadata": {
        "collapsed": false,
        "jupyter": {
          "outputs_hidden": false
        }
      },
      "execution_count": 3,
      "outputs": [
        {
          "name": "stderr",
          "output_type": "stream",
          "text": "[nltk_data] Downloading package stopwords to /root/nltk_data...\n\n[nltk_data]   Package stopwords is already up-to-date!\n"
        },
        {
          "execution_count": 3,
          "output_type": "execute_result",
          "data": {
            "text/plain": [
              "True"
            ]
          },
          "metadata": {}
        }
      ]
    },
    {
      "cell_type": "code",
      "source": "import pyspark\nimport sys\nfrom collections import Counter, OrderedDict, defaultdict\nimport itertools\nfrom itertools import islice, count, groupby\nimport pandas as pd\nimport os\nimport re\nfrom operator import itemgetter\nfrom nltk.stem.porter import *\nfrom nltk.corpus import stopwords\nfrom time import time\nfrom pathlib import Path\nimport pickle\nfrom google.cloud import storage\nimport builtins\n\n# from flask import Flask, request, jsonify\nfrom sklearn.feature_extraction.text import TfidfVectorizer\nimport numpy as np\nfrom tqdm import tqdm\nimport operator\nfrom contextlib import closing\nimport json\nfrom io import StringIO\nimport matplotlib.pyplot as plt\nimport math\nimport hashlib\n# import gensim\n# from gensim.utils import simple_preprocess\n# from gensim.models import word2vec\n# from gensim.models.word2vec import LineSentence\n\ndef _hash(s):\n    return hashlib.blake2b(bytes(s, encoding='utf8'), digest_size=5).hexdigest()",
      "metadata": {
        "collapsed": false,
        "jupyter": {
          "outputs_hidden": false
        }
      },
      "execution_count": 4,
      "outputs": []
    },
    {
      "cell_type": "code",
      "source": "# if nothing prints here you forgot to include the initialization script when starting the cluster\n!ls -l /usr/lib/spark/jars/graph*",
      "metadata": {
        "collapsed": false,
        "jupyter": {
          "outputs_hidden": false
        }
      },
      "execution_count": 5,
      "outputs": [
        {
          "name": "stdout",
          "output_type": "stream",
          "text": "-rw-r--r-- 1 root root 247882 Jan 13 18:38 /usr/lib/spark/jars/graphframes-0.8.2-spark3.1-s_2.12.jar\n"
        }
      ]
    },
    {
      "cell_type": "code",
      "source": "from pyspark.sql import *\nfrom pyspark.sql.functions import *\nfrom pyspark import SparkContext, SparkConf, SparkFiles\nfrom pyspark.sql import SQLContext\nfrom graphframes import *",
      "metadata": {
        "collapsed": false,
        "jupyter": {
          "outputs_hidden": false
        }
      },
      "execution_count": 6,
      "outputs": []
    },
    {
      "cell_type": "code",
      "source": "spark",
      "metadata": {
        "collapsed": false,
        "jupyter": {
          "outputs_hidden": false
        }
      },
      "execution_count": 7,
      "outputs": [
        {
          "execution_count": 7,
          "output_type": "execute_result",
          "data": {
            "text/html": [
              "\n",
              "            <div>\n",
              "                <p><b>SparkSession - hive</b></p>\n",
              "                \n",
              "        <div>\n",
              "            <p><b>SparkContext</b></p>\n",
              "\n",
              "            <p><a href=\"http://cluster-ae7d-m.c.lateral-balm-370117.internal:38011\">Spark UI</a></p>\n",
              "\n",
              "            <dl>\n",
              "              <dt>Version</dt>\n",
              "                <dd><code>v3.1.3</code></dd>\n",
              "              <dt>Master</dt>\n",
              "                <dd><code>yarn</code></dd>\n",
              "              <dt>AppName</dt>\n",
              "                <dd><code>PySparkShell</code></dd>\n",
              "            </dl>\n",
              "        </div>\n",
              "        \n",
              "            </div>\n",
              "        "
            ],
            "text/plain": [
              "<pyspark.sql.session.SparkSession at 0x7ffab5eca520>"
            ]
          },
          "metadata": {}
        }
      ]
    },
    {
      "cell_type": "code",
      "source": "# Put your bucket name below and make sure you can access it without an error\n#TODO\nbucket_name = 'oded_318963386'\nfull_path = f\"gs://{bucket_name}/\"\npaths=[]\n\nclient = storage.Client()\nblobs = client.list_blobs(bucket_name)\nfor b in blobs:\n    if '.parquet' in b.name:\n        paths.append(full_path+b.name)",
      "metadata": {
        "collapsed": false,
        "jupyter": {
          "outputs_hidden": false
        }
      },
      "execution_count": 8,
      "outputs": []
    },
    {
      "cell_type": "markdown",
      "source": "Here, we read the entire corpus to an rdd, directly from Google Storage Bucket and use your code from Colab to construct an inverted index.",
      "metadata": {}
    },
    {
      "cell_type": "code",
      "source": "parquetFile = spark.read.parquet(*paths)",
      "metadata": {
        "collapsed": false,
        "jupyter": {
          "outputs_hidden": false
        }
      },
      "execution_count": 9,
      "outputs": [
        {
          "name": "stderr",
          "output_type": "stream",
          "text": "                                                                                \r"
        }
      ]
    },
    {
      "cell_type": "code",
      "source": "# install ngrok to emulate public IP / address\n!wget -N https://bin.equinox.io/c/4VmDzA7iaHb/ngrok-stable-linux-amd64.zip -O ngrok-stable-linux-amd64.zip\n!unzip -u ngrok-stable-linux-amd64.zip",
      "metadata": {
        "collapsed": false,
        "jupyter": {
          "outputs_hidden": false
        }
      },
      "execution_count": 12,
      "outputs": [
        {
          "name": "stdout",
          "output_type": "stream",
          "text": "WARNING: timestamping does nothing in combination with -O. See the manual\n\nfor details.\n\n\n\n--2023-01-10 15:00:27--  https://bin.equinox.io/c/4VmDzA7iaHb/ngrok-stable-linux-amd64.zip\n\nResolving bin.equinox.io (bin.equinox.io)... 54.237.133.81, 18.205.222.128, 52.202.168.65, ...\n\nConnecting to bin.equinox.io (bin.equinox.io)|54.237.133.81|:443... connected.\n\nHTTP request sent, awaiting response... 200 OK\n\nLength: 13832437 (13M) [application/octet-stream]\n\nSaving to: ‘ngrok-stable-linux-amd64.zip’\n\n\n\nngrok-stable-linux- 100%[===================>]  13.19M  36.6MB/s    in 0.4s    \n\n\n\n2023-01-10 15:00:28 (36.6 MB/s) - ‘ngrok-stable-linux-amd64.zip’ saved [13832437/13832437]\n\n\n\nArchive:  ngrok-stable-linux-amd64.zip\n"
        }
      ]
    },
    {
      "cell_type": "code",
      "source": "# TODO: sign up for an ngrok account\n# then put your ngrok token below, uncomment, and execute\n!./ngrok authtoken 2JidbvmcPvLbBy9Dk8OkRfpco9S_2sH521Z4ghkATHtEJiWRt",
      "metadata": {
        "collapsed": false,
        "jupyter": {
          "outputs_hidden": false
        }
      },
      "execution_count": null,
      "outputs": [
        {
          "name": "stdout",
          "output_type": "stream",
          "text": "Authtoken saved to configuration file: /root/.ngrok2/ngrok.yml\n"
        }
      ]
    },
    {
      "cell_type": "code",
      "source": "# install a ngrok python package and a version of flask that works with it in\n# colab\n!pip -q install flask-ngrok\n!pip -q install flask==0.12.2\n!pip -q install flask_restful",
      "metadata": {
        "collapsed": false,
        "jupyter": {
          "outputs_hidden": false
        }
      },
      "execution_count": null,
      "outputs": [
        {
          "name": "stdout",
          "output_type": "stream",
          "text": "\u001b[2K     \u001b[90m━━━━━━━━━━━━━━━━━━━━━━━━━━━━━━━━━━━━━━━━\u001b[0m \u001b[32m83.0/83.0 KB\u001b[0m \u001b[31m3.3 MB/s\u001b[0m eta \u001b[36m0:00:00\u001b[0m\n\n\u001b[2K     \u001b[90m━━━━━━━━━━━━━━━━━━━━━━━━━━━━━━━━━━━━━━━━\u001b[0m \u001b[32m52.8/52.8 KB\u001b[0m \u001b[31m3.4 MB/s\u001b[0m eta \u001b[36m0:00:00\u001b[0m\n\n\u001b[?25h"
        }
      ]
    },
    {
      "cell_type": "code",
      "source": "# get PageViews\n# create a dictionary with doc_id: page_views\n\npv_path = 'https://dumps.wikimedia.org/other/pageview_complete/monthly/2021/2021-08/pageviews-202108-user.bz2'\np = Path(pv_path)\npv_name = p.name\npv_temp = f'{p.stem}-4dedup.txt'\npv_clean = f'{p.stem}.pkl'\n# Download the file (2.3GB)\n!wget -N $pv_path\n# Filter for English pages, and keep just two fields: article ID (3) and monthly\n# total number of page views (5). Then, remove lines with article id or page\n# view values that are not a sequence of digits.\n!bzcat $pv_name | grep \"^en\\.wikipedia\" | cut -d' ' -f3,5 | grep -P \"^\\d+\\s\\d+$\" > $pv_temp\n# Create a Counter (dictionary) that sums up the pages views for the same\n# article, resulting in a mapping from article id to total page views.\nwid2pv = Counter()\nwith open(pv_temp, 'rt') as f:\n  for line in f:\n    parts = line.split(' ')\n    wid2pv.update({int(parts[0]): int(parts[1])})\n# write out the counter as binary file (pickle it)\nwith open(pv_clean, 'wb') as f:\n  pickle.dump(wid2pv, f)\n\n# upload to gs\npageview_src = f'{p.stem}.pkl'\npageview_dst = f'gs://{bucket_name}/{pageview_src}'\n!gsutil cp $pageview_src $pageview_dst",
      "metadata": {
        "collapsed": false,
        "jupyter": {
          "outputs_hidden": false
        }
      },
      "execution_count": 13,
      "outputs": [
        {
          "name": "stdout",
          "output_type": "stream",
          "text": "--2023-01-12 17:09:38--  https://dumps.wikimedia.org/other/pageview_complete/monthly/2021/2021-08/pageviews-202108-user.bz2\n\nResolving dumps.wikimedia.org (dumps.wikimedia.org)... 208.80.154.142, 2620:0:861:2:208:80:154:142\n\nConnecting to dumps.wikimedia.org (dumps.wikimedia.org)|208.80.154.142|:443... connected.\n\nHTTP request sent, awaiting response... 200 OK\n\nLength: 2503235912 (2.3G) [application/octet-stream]\n\nSaving to: ‘pageviews-202108-user.bz2’\n\n\n\news-202108-user.bz2   4%[                    ] 108.07M  5.02MB/s    eta 7m 34s ^C\n"
        },
        {
          "name": "stderr",
          "output_type": "stream",
          "text": "\n\nKeyboardInterrupt\n\n\n"
        }
      ]
    },
    {
      "cell_type": "code",
      "source": "# get PageRank\ndef generate_graph(pages):\n  ''' Compute the directed graph generated by wiki links.\n  Parameters:\n  -----------\n    pages: RDD\n      An RDD where each row consists of one wikipedia articles with 'id' and\n      'anchor_text'.\n  Returns:\n  --------\n    edges: RDD\n      An RDD where each row represents an edge in the directed graph created by\n      the wikipedia links. The first entry should the source page id and the\n      second entry is the destination page id. No duplicates should be present.\n    vertices: RDD\n      An RDD where each row represents a vetrix (node) in the directed graph\n      created by the wikipedia links. No duplicates should be present.\n  '''\n  # YOUR CODE HERE\n  edges = pages.map(lambda x: {(x[0],y[0]) for y in x[1]}).flatMap(lambda x: x)\n  vertices = pages.map(lambda x: {(y[0],y[0]) for y in [(x[0], x[0])] + x[1]}).flatMap(lambda x: x).reduceByKey(lambda x,y: x)\n  return edges, vertices\n\npages_links = spark.read.parquet(\"gs://wikidata20210801_preprocessed/*\").select(\"id\", \"anchor_text\").rdd\nedges, vertices = generate_graph(pages_links)\nedgesDF = edges.toDF(['src', 'dst']).repartition(124, 'src')\nverticesDF = vertices.toDF(['id']).repartition(124, 'id')\ng = GraphFrame(verticesDF, edgesDF)\npr_results = g.pageRank(resetProbability=0.15, maxIter=6)\npr = pr_results.vertices.select(\"id\", \"pagerank\").rdd\nprank = pr.collectAsMap()\n\n# write out the PageRank dict as binary file (pickle it)\nwith open('pr.pkl', 'wb') as f:\n    pickle.dump(prank, f)\n\n# upload to gs\npagerank_src = 'pr.pkl'\npagerank_dst = f'gs://{bucket_name}/{pagerank_src}'\n!gsutil cp $pagerank_src $pagerank_dst",
      "metadata": {
        "collapsed": false,
        "jupyter": {
          "outputs_hidden": false
        }
      },
      "execution_count": null,
      "outputs": []
    },
    {
      "cell_type": "code",
      "source": "BLOCK_SIZE = 1999998\n\nfrom functools import reduce\nfrom operator import add\n\nenglish_stopwords = frozenset(stopwords.words('english'))\n\nwebsite_regx = \"\\\\b((?:www\\.)?\\w+\\.com)\\\\b\"\ndates_with_slash = \"\\\\b((?:0?[1-9]|[12][0-9]|3[01])\\/(?:0[1-9]|1[0-2])(?:\\/\\d{4})?)\"\ndate_regex = \"((?:January|March|April|May|June|July|August|September|October|November|December|Jan|Mar|Apr|May|Jun|Jul|Aug|Sep|Oct|Nov|Dec)\\s(?:0?[1-9]|[12][0-9]|3[01])(?:\\,\\s)(?:[12][0-9]{3}))|((?:0?[1-9]|[12][0-9]|3[01])\\s(?:Jan(?:uary)?|Mar(?:ch)?|Apr(?:il)?|May|Jun(?:e)?|Jul(?:y)?|Aug(?:ust)?|Sep(?:tember)?|Oct(?:ober)?|Nov(?:ember)?|Dec(?:ember)?)\\s(?:(?:[12][0-9]{3})|\\d{3}))|((?:February|Feb)\\s(?:0?[1-9]|[12][0-9])(?:\\,\\s)(?:[12][0-9]{3}))|((?:0?[1-9]|[12][0-9])\\s(?:Feb)\\s(?:[12][0-9]{3}))\"\ntime_regex = \"(\\\\b(?:1[012]|0?[1-9])\\.[0-5][0-9](?:AM|PM))\\\\b|(\\\\b(?:1[012]|0?[1-9])(?:\\:)?[0-5][0-9](?:\\s?)(?:a\\.m(?:\\.)?|p\\.m(?:\\.)?|am|pm))|(\\\\b(?:2[0-3]|[01]?[0-9])\\:(?:[0-5]?[0-9])(?:\\:(?:[0-5]?[0-9]))?\\\\b)\"\nnumber_regex = \"(?<![\\w+\\+\\-\\.\\,])([+-]?\\d{1,3}(?:\\,\\d{3})*(?:\\.\\d+)?)(?!\\d*\\%|\\d*\\.[a-zA-Z]+|\\d*\\,\\S|\\d*\\.\\S|\\d*[a-zA-Z]+|\\d)\"\nprecent_regex = \"(?<![\\w+\\+\\-\\.\\,])([+-]?\\d{1,3}(?:\\,?\\d{3})*(?:\\.\\d+)?\\%)(?!\\d*\\%|\\d*\\.[a-zA-Z]+|\\d*\\,\\S|\\d*\\.\\S|\\d*[a-zA-Z]+)\"\nword_like_usa_regex = \"\\\\b([A-Za-z]\\.[A-Za-z]\\.[A-Za-z])\\\\b|\\\\b([A-Za-z]\\.[A-Za-z]\\.(?![\\w]))\"\nword_regex =\"(?<![\\-\\w])(\\w+(?:\\w*\\-?)*\\\\'?\\w*)(?!\\w*\\%)\"\nhtml_regex = \"<(“[^”]*”|'[^’]*’|[^'”>])*>\"\n\nRE_WORD = re.compile(r\"\\b((?:www\\.)?\\w+\\.com)\\b|\\b((?:0?[1-9]|[12][0-9]|3[01])\\/(?:0[1-9]|1[0-2])(?:\\/\\d{4})?)|((?:January|March|April|May|June|July|August|September|October|November|December|Jan|Mar|Apr|May|Jun|Jul|Aug|Sep|Oct|Nov|Dec)\\s(?:0?[1-9]|[12][0-9]|3[01])(?:\\,\\s)(?:[12][0-9]{3}))|((?:0?[1-9]|[12][0-9]|3[01])\\s(?:Jan(?:uary)?|Mar(?:ch)?|Apr(?:il)?|May|Jun(?:e)?|Jul(?:y)?|Aug(?:ust)?|Sep(?:tember)?|Oct(?:ober)?|Nov(?:ember)?|Dec(?:ember)?)\\s(?:(?:[12][0-9]{3})|\\d{3}))|((?:February|Feb)\\s(?:0?[1-9]|[12][0-9])(?:\\,\\s)(?:[12][0-9]{3}))|((?:0?[1-9]|[12][0-9])\\s(?:Feb)\\s(?:[12][0-9]{3}))|(\\b(?:1[012]|0?[1-9])\\.[0-5][0-9](?:AM|PM))\\b|(\\b(?:1[012]|0?[1-9])(?:\\:)?[0-5][0-9](?:\\s?)(?:a\\.m(?:\\.)?|p\\.m(?:\\.)?|am|pm))|(\\b(?:2[0-3]|[01]?[0-9])\\:(?:[0-5]?[0-9])(?:\\:(?:[0-5]?[0-9]))?\\b)|(?<![\\w+\\+\\-\\.\\,])([+-]?\\d{1,3}(?:\\,\\d{3})*(?:\\.\\d+)?)(?!\\d*\\%|\\d*\\.[a-zA-Z]+|\\d*\\,\\S|\\d*\\.\\S|\\d*[a-zA-Z]+|\\d)|(?<![\\w+\\+\\-\\.\\,])([+-]?\\d{1,3}(?:\\,?\\d{3})*(?:\\.\\d+)?\\%)(?!\\d*\\%|\\d*\\.[a-zA-Z]+|\\d*\\,\\S|\\d*\\.\\S|\\d*[a-zA-Z]+)|\\b([A-Za-z]\\.[A-Za-z]\\.[A-Za-z])\\b|\\b([A-Za-z]\\.[A-Za-z]\\.(?![\\w]))|(?<![\\-\\w])(\\w+(?:\\w*\\-?)*\\'?\\w*)(?!\\w*\\%)|<(“[^”]*”|'[^’]*’|[^'”>])*>\", re.UNICODE)\nenglish_stopwords = frozenset(stopwords.words('english'))\ncorpus_stopwords = [\"category\", \"references\", \"also\", \"external\", \"links\",\n                    \"may\", \"first\", \"see\", \"history\", \"people\", \"one\", \"two\",\n                    \"part\", \"thumb\", \"including\", \"second\", \"following\",\n                    \"many\", \"however\", \"would\", \"became\"]\n\nall_stopwords = english_stopwords.union(corpus_stopwords)\nstemmer = PorterStemmer()\n\nRE_WORD_5_Func = re.compile(r\"\"\"[\\#\\@\\w](['\\-]?\\w){2,24}\"\"\", re.UNICODE)\ndef tokenizer_5_func(text):\n    \"\"\"\n    This function aims in tokenize a text into a list of tokens. Moreover, it filter stopwords.\n\n    Parameters:\n    -----------\n    text: string , represting the text to tokenize.\n\n    Returns:\n    -----------\n    list of tokens (e.g., list of tokens).\n    \"\"\"\n    list_of_tokens = [token.group() for token in RE_WORD_5_Func.finditer(text.lower()) if\n                      token.group() not in all_stopwords]\n    return list_of_tokens\n\n\n# tokenize assignment 4\ndef tokenize(text):\n    \"\"\"\n    This function aims in tokenize a text into a list of tokens. Moreover, it filter stopwords.\n\n    Parameters:\n    -----------\n    text: string , represting the text to tokenize.\n\n    Returns:\n    -----------\n    list of tokens (e.g., list of tokens).\n    \"\"\"\n    list_of_tokens = [stemmer.stem(token.group()) for token in RE_WORD.finditer(text.lower()) if\n                      token.group() not in all_stopwords]\n    return list_of_tokens\n\n\ndef tokenize_body(text):\n    \"\"\"\n    This function aims in tokenize a text into a list of tokens. Moreover, it filter stopwords.\n\n    Parameters:\n    -----------\n    text: string , represting the text to tokenize.\n\n    Returns:\n    -----------\n    list of tokens (e.g., list of tokens).\n    \"\"\"\n    list_of_tokens = [stemmer.stem(token.group()) for token in RE_WORD_5_Func.finditer(text.lower()) if\n                      token.group() not in all_stopwords]\n    return list_of_tokens\n\n\nNUM_BUCKETS = 124\ndef token2bucket_id(token):\n  return int(_hash(token),16) % NUM_BUCKETS\n\nclass MultiFileWriter:\n    \"\"\" Sequential binary writer to multiple files of up to BLOCK_SIZE each. \"\"\"\n\n    def __init__(self, base_dir, name, bucket_name, prefix):\n        self._base_dir = Path(base_dir)\n        self._name = name\n        self._file_gen = (open(self._base_dir / f'{name}_{i:03}.bin', 'wb')\n                          for i in itertools.count())\n        self._f = next(self._file_gen)\n        # Connecting to google storage bucket.\n        self.client = storage.Client()\n        self.bucket = self.client.bucket(bucket_name)\n        self.prefix = prefix\n\n    def write(self, b):\n        locs = []\n        while len(b) > 0:\n            pos = self._f.tell()\n            remaining = BLOCK_SIZE - pos\n            # if the current file is full, close and open a new one.\n            if remaining == 0:\n                self.upload_to_gcp()\n                self._f = next(self._file_gen)\n                pos, remaining = 0, BLOCK_SIZE\n            self._f.write(b[:remaining])\n            locs.append((self._f.name, pos))\n            b = b[remaining:]\n        return locs\n\n    def close(self):\n        self._f.close()\n\n    def upload_to_gcp(self):\n        '''\n            The function saves the posting files into the right bucket in google storage.\n        '''\n        self._f.close()\n        file_name = self._f.name\n        blob = self.bucket.blob(self.prefix + \"/\" + f\"{file_name}\")\n        blob.upload_from_filename(file_name)\n\ndef sum_dict_values(dict_values):\n    return reduce(add, dict_values.values())\n\nclass MultiFileReader:\n    \"\"\" Sequential binary reader of multiple files of up to BLOCK_SIZE each. \"\"\"\n\n    def __init__(self):\n        self._open_files = {}\n\n    def read(self, locs, n_bytes, prefix):\n        b = []\n        client = storage.Client()\n        bucket = client.get_bucket('oded_318963386')\n        for f_name, offset in locs:\n            blob = bucket.get_blob(prefix + f'/{f_name}')\n            pl_bin = blob.download_as_bytes()\n            pl_to_read = pl_bin[offset: builtins.min(offset + n_bytes, BLOCK_SIZE)]\n            n_read = builtins.min(n_bytes, BLOCK_SIZE - offset)\n            b.append(pl_to_read)\n            n_bytes -= n_read\n        return b''.join(b)\n\n    def close(self):\n        for f in self._open_files.values():\n            f.close()\n\n    def __exit__(self, exc_type, exc_value, traceback):\n        self.close()\n        return False\n\nTUPLE_SIZE = 6       # We're going to pack the doc_id and tf values in this\n                     # many bytes.\nTF_MASK = 2 ** 16 - 1 # Masking the 16 low bits of an integer\n\n# When preprocessing the data have a dictionary of document length for each document saved in a variable called `DL`.\nDL = Counter()\n\nclass InvertedIndex:\n    def __init__(self, docs={}):\n        \"\"\" Initializes the inverted index and add documents to it (if provided).\n        Parameters:\n        -----------\n          docs: dict mapping doc_id to list of tokens\n        \"\"\"\n        # stores document frequency per term\n        self.df = Counter()\n        # stores total frequency per term\n        self.term_total = Counter()\n        # stores posting list per term while building the index (internally),\n        # otherwise too big to store in memory.\n        self._posting_list = defaultdict(list)\n        # mapping a term to posting file locations, which is a list of\n        # (file_name, offset) pairs. Since posting lists are big we are going to\n        # write them to disk and just save their location in this list. We are\n        # using the MultiFileWriter helper class to write fixed-size files and store\n        # for each term/posting list its list of locations. The offset represents\n        # the number of bytes from the beginning of the file where the posting list\n        # starts.\n        self.posting_locs = defaultdict(list)\n        self.doc_to_norm = {}\n        self.DL_for_index = {}\n        self.len_DL_for_index = 0\n\n        for doc_id, tokens in docs.items():\n            self.add_doc(doc_id, tokens)\n\n    def add_doc(self, doc_id, tokens):\n        \"\"\" Adds a document to the index with a given `doc_id` and tokens. It counts\n            the tf of tokens, then update the index (in memory, no storage\n            side-effects).\n        \"\"\"\n        w2cnt = Counter(tokens)\n        self.term_total.update(w2cnt)\n        for w, cnt in w2cnt.items():\n            self.df[w] = self.df.get(w, 0) + 1\n            self._posting_list[w].append((doc_id, cnt))\n\n    def write_index(self, base_dir, name):\n        \"\"\" Write the in-memory index to disk. Results in the file:\n            (1) `name`.pkl containing the global term stats (e.g. df).\n        \"\"\"\n        #### GLOBAL DICTIONARIES ####\n        self._write_globals(base_dir, name)\n\n    def _write_globals(self, base_dir, name):\n        with open(Path(base_dir) / f'{name}.pkl', 'wb') as f:\n            pickle.dump(self, f)\n\n    def __getstate__(self):\n        \"\"\" Modify how the object is pickled by removing the internal posting lists\n            from the object's state dictionary.\n        \"\"\"\n        state = self.__dict__.copy()\n        del state['_posting_list']\n        return state\n\n    def posting_lists_iter(self):\n        \"\"\" A generator that reads one posting list from disk and yields\n            a (word:str, [(doc_id:int, tf:int), ...]) tuple.\n        \"\"\"\n        with closing(MultiFileReader()) as reader:\n            for w, locs in self.posting_locs.items():\n                b = reader.read(locs[0], self.df[w] * TUPLE_SIZE)\n                posting_list = []\n                for i in range(self.df[w]):\n                    doc_id = int.from_bytes(b[i * TUPLE_SIZE:i * TUPLE_SIZE + 4], 'big')\n                    tf = int.from_bytes(b[i * TUPLE_SIZE + 4:(i + 1) * TUPLE_SIZE], 'big')\n                    posting_list.append((doc_id, tf))\n                yield w, posting_list\n\n    @staticmethod\n    def read_index(base_dir, name):\n        with open(Path(base_dir) / f'{name}.pkl', 'rb') as f:\n            return pickle.load(f)\n\n    @staticmethod\n    def delete_index(base_dir, name):\n        path_globals = Path(base_dir) / f'{name}.pkl'\n        path_globals.unlink()\n        for p in Path(base_dir).rglob(f'{name}_*.bin'):\n            p.unlink()\n\n    @staticmethod\n    def write_a_posting_list(b_w_pl, bucket_name, prefix):\n        posting_locs = defaultdict(list)\n        bucket_id, list_w_pl = b_w_pl\n\n        with closing(MultiFileWriter(\".\", bucket_id, bucket_name, prefix)) as writer:\n            for w, pl in list_w_pl:\n                # convert to bytes\n                b = b''.join([(doc_id << 16 | (tf & TF_MASK)).to_bytes(TUPLE_SIZE, 'big')\n                              for doc_id, tf in pl])\n                # write to file(s)\n                locs = writer.write(b)\n                # save file locations to index\n                posting_locs[w].extend(locs)\n            writer.upload_to_gcp()\n            InvertedIndex._upload_posting_locs(bucket_id, posting_locs, bucket_name, prefix)\n        return bucket_id\n\n    @staticmethod\n    def _upload_posting_locs(bucket_id, posting_locs, bucket_name, prefix):\n        with open(f\"{bucket_id}_posting_locs.pickle\", \"wb\") as f:\n            pickle.dump(posting_locs, f)\n        client = storage.Client()\n        bucket = client.bucket(bucket_name)\n        blob_posting_locs = bucket.blob(prefix + f\"/{bucket_id}_posting_locs.pickle\")\n        blob_posting_locs.upload_from_filename(f\"{bucket_id}_posting_locs.pickle\")\n\n\n\nclass BM25_from_index:\n    \"\"\"\n    Best Match 25.\n    ----------\n    k1 : float, default 1.5\n\n    b : float, default 0.75\n\n    index: inverted index\n    \"\"\"\n\n    def __init__(self, index, DL, k1=1.5, b=0.75):\n        self.b = b\n        self.k1 = k1\n        self.index = index\n        self.DL = DL\n        self.N = len(self.DL)\n        self.AVGDL = sum_dict_values(self.DL) / self.N\n        self.words = list(self.index.term_total.keys())\n\n    def calc_idf(self, list_of_tokens):\n        \"\"\"\n        This function calculate the idf values according to the BM25 idf formula for each term in the query.\n\n        Parameters:\n        -----------\n        query: list of token representing the query. For example: ['look', 'blue', 'sky']\n\n        Returns:\n        -----------\n        idf: dictionary of idf scores. As follows:\n                                                    key: term\n                                                    value: bm25 idf score\n        \"\"\"\n        idf = {}\n        for term in list_of_tokens:\n            if term in self.index.df.keys():\n                n_ti = self.index.df[term]\n                idf[term] = math.log(1 + (self.N - n_ti + 0.5) / (n_ti + 0.5))\n            else:\n                pass\n        return idf\n\n    def search(self, queries, prefix, N=100):\n        \"\"\"\n        This function calculate the bm25 score for given query and document.\n        We need to check only documents which are 'candidates' for a given query.\n        This function return a dictionary of scores as the following:\n                                                                    key: query_id\n                                                                    value: a ranked list of pairs (doc_id, score) in the length of N.\n\n        Parameters:\n        -----------\n        query: list of token representing the query. For example: ['look', 'blue', 'sky']\n        doc_id: integer, document id.\n\n        Returns:\n        -----------\n        score: float, bm25 score.\n        \"\"\"\n        # YOUR CODE HERE\n        d = {}\n        for key in queries:\n            Q = queries[key]\n            self.idf = self.calc_idf(Q)\n            for term in np.unique(Q):\n                if term in self.words:\n                    list_of_doc = read_posting_list(self.index, term, prefix)\n                    for doc_id, freq in list_of_doc:\n                        d[doc_id] = d.get(doc_id, 0) + self._score(term, doc_id, freq)\n        return d\n\n    def _score(self, term, doc_id, freq):\n        \"\"\"\n        This function calculate the bm25 score for given query and document.\n\n        Parameters:\n        -----------\n        query: list of token representing the query. For example: ['look', 'blue', 'sky']\n        doc_id: integer, document id.\n\n        Returns:\n        -----------\n        score: float, bm25 score.\n        \"\"\"\n        score = 0.0\n        doc_len = self.DL[str(doc_id)]\n        numerator = self.idf[term] * freq * (self.k1 + 1)\n        denominator = freq + self.k1 * (1 - self.b + self.b * doc_len / self.AVGDL)\n        score += (numerator / denominator)\n        return score\n\nclass tf_idf_from_index:\n    \"\"\"\n    Best Match tf-idf.\n    ----------\n\n    index: inverted index\n    \"\"\"\n\n    def __init__(self, index):\n        self.index = index\n        self.words = list(self.index.term_total.keys())\n        self.doc_to_norm = self.index.doc_to_norm\n        self.DL_for_index = self.index.DL_for_index\n        self.len_DL_for_index = self.index.len_DL_for_index",
      "metadata": {
        "collapsed": false,
        "jupyter": {
          "outputs_hidden": false
        }
      },
      "execution_count": 10,
      "outputs": []
    },
    {
      "cell_type": "code",
      "source": "def read_posting_list(inverted, w, prefix):\n  with closing(MultiFileReader()) as reader:\n    locs = inverted.posting_locs[w]\n    b = reader.read(locs, inverted.df[w] * TUPLE_SIZE, prefix)\n    posting_list = []\n    for i in range(inverted.df[w]):\n      doc_id = int.from_bytes(b[i*TUPLE_SIZE:i*TUPLE_SIZE+4], 'big')\n      tf = int.from_bytes(b[i*TUPLE_SIZE+4:(i+1)*TUPLE_SIZE], 'big')\n      posting_list.append((doc_id, tf))\n\n    return posting_list",
      "metadata": {
        "collapsed": false,
        "jupyter": {
          "outputs_hidden": false
        }
      },
      "execution_count": 24,
      "outputs": []
    },
    {
      "cell_type": "code",
      "source": "def save_other(other, name):\n    with open(f'{name}.pkl', 'wb') as handle:\n        pickle.dump(other, handle)",
      "metadata": {
        "collapsed": false,
        "jupyter": {
          "outputs_hidden": false
        }
      },
      "execution_count": 15,
      "outputs": []
    },
    {
      "cell_type": "code",
      "source": "def get_tokenize_words(text, id):\n  ''' Count the length of `text` that is not included in\n  `all_stopwords` and returns a tuple with doc_id: len(doc_id):\n  -----------\n    text: str\n      Text of one document\n    id: int\n      Document id\n  Returns:\n  --------\n    tuple with doc_id: len(doc_id)\n  '''\n  tokens = tokenize(text)\n  return (id, tokens)\n\n\ndef calc_text_length(text, id):\n  ''' Count the length of `text` that is not included in\n  `all_stopwords` and returns a tuple with doc_id: len(doc_id):\n  -----------\n    text: str\n      Text of one document\n    id: int\n      Document id\n  Returns:\n  --------\n    tuple with doc_id: len(doc_id)\n  '''\n  tokens = tokenize(text)\n  return (id, len(tokens))\n\n\ndef word_count(text, id):\n  ''' Count the frequency of each word in `text` (tf) that is not included in\n  `all_stopwords` and return entries that will go into our posting lists.\n  Parameters:\n  -----------\n    text: str\n      Text of one document\n    id: int\n      Document id\n  Returns:\n  --------\n    List of tuples\n      A list of (token, (doc_id, tf)) pairs\n      for example: [(\"Anarchism\", (12, 5)), ...]\n  '''\n  tokens = tokenize(text)\n  # YOUR CODE HERE\n  d = {}\n  for word in tokens:\n      d[word] = d.get(word, 0) + 1\n\n  l = []\n  for key, val in d.items():\n    l.append((key,(id,val)))\n  return l\n\ndef word_count_body(text, id):\n  ''' Count the frequency of each word in `text` (tf) that is not included in\n  `all_stopwords` and return entries that will go into our posting lists.\n  Parameters:\n  -----------\n    text: str\n      Text of one document\n    id: int\n      Document id\n  Returns:\n  --------\n    List of tuples\n      A list of (token, (doc_id, tf)) pairs\n      for example: [(\"Anarchism\", (12, 5)), ...]\n  '''\n  tokens = tokenize_body(text)\n  # YOUR CODE HERE\n  d = {}\n  for word in tokens:\n      d[word] = d.get(word, 0) + 1\n\n  l = []\n  for key, val in d.items():\n    l.append((key,(id,val)))\n  return l\n\ndef calc_text_length_for_5_func(text, id):\n  ''' Count the length of `text` that is not included in\n  `all_stopwords` and returns a tuple with doc_id: len(doc_id):\n  -----------\n    text: str\n      Text of one document\n    id: int\n      Document id\n  Returns:\n  --------\n    tuple with doc_id: len(doc_id)\n  '''\n  tokens = tokenizer_5_func(text)\n  return (id, len(tokens))\n\n\ndef word_count_for_5_func(text, id):\n  ''' Count the frequency of each word in `text` (tf) that is not included in\n  `all_stopwords` and return entries that will go into our posting lists.\n  Parameters:\n  -----------\n    text: str\n      Text of one document\n    id: int\n      Document id\n  Returns:\n  --------\n    List of tuples\n      A list of (token, (doc_id, tf)) pairs\n      for example: [(\"Anarchism\", (12, 5)), ...]\n  '''\n  tokens = tokenizer_5_func(text)\n  # YOUR CODE HERE\n  d = {}\n  for word in tokens:\n      d[word] = d.get(word, 0) + 1\n\n  l = []\n  for key, val in d.items():\n    l.append((key,(id,val)))\n  return l\n\ndef reduce_word_counts(unsorted_pl):\n  ''' Returns a sorted posting list by wiki_id.\n  Parameters:\n  -----------\n    unsorted_pl: list of tuples\n      A list of (wiki_id, tf) tuples\n  Returns:\n  --------\n    list of tuples\n      A sorted posting list.\n  '''\n  # YOUR CODE HERE\n  return sorted(unsorted_pl, key = lambda x: x[0])\n\ndef calculate_df(postings):\n  ''' Takes a posting list RDD and calculate the df for each token.\n  Parameters:\n  -----------\n    postings: RDD\n      An RDD where each element is a (token, posting_list) pair.\n  Returns:\n  --------\n    RDD\n      An RDD where each element is a (token, df) pair.\n  '''\n  # YOUR CODE HERE\n  return postings.map(lambda x: (x[0],int(np.sum([1 for tup in x[1]]))))\n\n\ndef calculate_term_total(postings):\n  ''' Takes a posting list RDD and calculate the df for each token.\n  Parameters:\n  -----------\n    postings: RDD\n      An RDD where each element is a (token, posting_list) pair.\n  Returns:\n  --------\n    RDD\n      An RDD where each element is a (token, term_total_frequency) pair.\n  '''\n  # YOUR CODE HERE\n  return postings.map(lambda x: (x[0],int(np.sum([tup[1] for tup in x[1]]))))\n\n\ndef partition_postings_and_write(postings, i, prefix):\n  ''' A function that partitions the posting lists into buckets, writes out\n  all posting lists in a bucket to disk, and returns the posting locations for\n  each bucket. Partitioning should be done through the use of `token2bucket`\n  above. Writing to disk should use the function  `write_a_posting_list`, a\n  static method implemented in inverted_index_colab.py under the InvertedIndex\n  class.\n  Parameters:\n  -----------\n    postings: RDD\n      An RDD where each item is a (w, posting_list) pair.\n  Returns:\n  --------\n    RDD\n      An RDD where each item is a posting locations dictionary for a bucket. The\n      posting locations maintain a list for each word of file locations and\n      offsets its posting list was written to. See `write_a_posting_list` for\n      more details.\n  '''\n  # YOUR CODE HERE\n  list_of_words_per_bucket = postings.map(lambda x: (token2bucket_id(x[0]), (x[0],x[1])))\n  buckets = list_of_words_per_bucket.groupByKey().map(lambda x: InvertedIndex.write_a_posting_list(x, bucket_name, prefix))\n  return buckets\n\ndef doc_to_norm_body(text, id, DL_for_index, len_DL, w2df_dict):\n    tokens = tokenizer_5_func(text)\n    tf = {}\n    if len(tokens) == 0:\n        return id, 0\n    for term in tokens:\n        tf[term] = tf.get(term, 0) + 1\n    doc_length = DL_for_index[id]\n    list_of_tf_idf = [reduce_doc_to_norm(tf, doc_length, len_DL, w2df_dict[term]) for term, tf in tf.items() if term in w2df_dict]\n    return id, np.linalg.norm(list_of_tf_idf)\n\ndef doc_to_norm(text, id, DL_for_index, len_DL, w2df_dict):\n    tokens = tokenizer_5_func(text)\n    tf = {}\n    if len(tokens) == 0:\n        return id, 0\n    for term in tokens:\n        tf[term] = tf.get(term, 0) + 1\n    doc_length = DL_for_index[id]\n    list_of_tf_idf = [reduce_doc_to_norm(tf, doc_length, len_DL, w2df_dict[term]) for term, tf in tf.items()]\n    return id, np.linalg.norm(list_of_tf_idf)\ndef reduce_doc_to_norm(tf, doc_length, len_DL, df):\n    return (tf / doc_length) * math.log(len_DL / df, 10)\n\ndef save_DL(DL, name):\n    with open(f'{name}.pkl', 'wb') as handle:\n        pickle.dump(DL, handle)\n\ndef save_titles_dict(titles_dict, name):\n    with open(f'{name}.pkl', 'wb') as handle:\n        pickle.dump(titles_dict, handle)\n\ndef save_other(other, name):\n    with open(f'{name}.pkl', 'wb') as handle:\n        pickle.dump(other, handle)\n\ndef read_for_search_frontend(name):\n    with open(f'{name}.pkl', 'rb') as handle:\n      return pickle.load(handle)\n\ndef create_word2vec_model(dict_docs_to_terms, name):\n  # Input: function that get dictinary: (key - doc_id, values - list of terms)\n  # Output: the function returns the word2vec for this corpus\n  sentences = list(dict_docs_to_terms.values())\n  model = word2vec.Word2vec(sentences, size=100, window=5, min_count=5, sg=0)\n  save_other(name)\n\ndocs_length_dict_body = {}\ndocs_length_dict_title = {}\ndocs_length_dict_anchor = {}\n\ndef create_index(doc_pairs, index_name, i, filter_from_n_docs):\n    # word counts map\n    prefix = index_name\n    word_counts = []\n    if prefix == 'body':\n        # tokenize without stemming\n        word_counts = doc_pairs.flatMap(lambda x: word_count_body(x[0], x[1]))\n    else:\n        # complex tokenize and stemming\n        word_counts = doc_pairs.flatMap(lambda x: word_count(x[0], x[1]))\n    postings = word_counts.groupByKey().mapValues(reduce_word_counts)\n    docs_length_dict = word_counts.map(lambda x: x[1]).reduceByKey(lambda a, b: a + b).collectAsMap()\n    DL.update(Counter(docs_length_dict))\n    if prefix == 'body':\n        docs_length_dict_body = docs_length_dict\n    elif prefix == 'title':\n        docs_length_dict_title = docs_length_dict\n    else:\n        docs_length_dict_anchor = docs_length_dict\n\n    # filtering postings and calculate df\n    postings_filtered = postings.filter(lambda x: len(x[1]) > filter_from_n_docs)\n    w2df = calculate_df(postings_filtered)\n    w2df_dict = w2df.collectAsMap()\n\n    w2term_total = calculate_term_total(postings_filtered)\n    w2term_total_dict = w2term_total.collectAsMap()\n\n    # partition posting lists and write out\n    posting_locs_list = partition_postings_and_write(postings_filtered, i, prefix).collect()\n\n    # merge the posting locations into a single dict and run more tests\n    super_posting_locs = defaultdict(list)\n    for blob in client.list_blobs(bucket_name, prefix=f'{prefix}'):\n      if not blob.name.endswith(\"pickle\"):\n        continue\n      with blob.open(\"rb\") as f:\n        posting_locs = pickle.load(f)\n        for k, v in posting_locs.items():\n          super_posting_locs[k].extend(v)\n\n    # Create inverted index instance\n    inverted = InvertedIndex()\n    # Adding the posting locations dictionary to the inverted index\n    inverted.posting_locs = super_posting_locs\n    # Add the token - df dictionary to the inverted index\n    inverted.df = w2df_dict\n    inverted.term_total = w2term_total_dict\n    inverted.doc_to_norm = {}\n    inverted.DL_for_index = {}\n    inverted.len_DL_for_index = 0\n    # write the global stats out\n    inverted.write_index('.', index_name)\n    return inverted\n\ndef create_index_for_5_func(doc_pairs, index_name, i, filter_from_n_docs):\n    # word counts map\n    prefix = index_name\n#     docs_length_dict = doc_pairs.map(lambda x: calc_text_length_for_5_func(x[0], x[1])).collectAsMap()\n#     DL.update(Counter(docs_length_dict))\n    word_counts = doc_pairs.flatMap(lambda x: word_count_for_5_func(x[0], x[1]))\n    postings = word_counts.groupByKey().mapValues(reduce_word_counts)\n    docs_length_dict = word_counts.map(lambda x: x[1]).reduceByKey(lambda a, b: a + b).collectAsMap()\n    DL.update(Counter(docs_length_dict))\n    # filtering postings and calculate df\n    postings_filtered = postings.filter(lambda x: len(x[1])> filter_from_n_docs)\n    w2df = calculate_df(postings_filtered)\n    w2df_dict = w2df.collectAsMap()\n\n    w2term_total = calculate_term_total(postings_filtered)\n    w2term_total_dict = w2term_total.collectAsMap()\n    # partition posting lists and write out\n    posting_locs_list = partition_postings_and_write(postings_filtered, i, prefix).collect()\n\n\n    # merge the posting locations into a single dict and run more tests\n    super_posting_locs = defaultdict(list)\n    for blob in client.list_blobs(bucket_name, prefix=f'{prefix}'):\n      if not blob.name.endswith(\"pickle\"):\n        continue\n      with blob.open(\"rb\") as f:\n        posting_locs = pickle.load(f)\n        for k, v in posting_locs.items():\n          super_posting_locs[k].extend(v)\n\n    # Create inverted index instance\n    inverted = InvertedIndex()\n    # Adding the posting locations dictionary to the inverted index\n    inverted.posting_locs = super_posting_locs\n    # Add the token - df dictionary to the inverted index\n    inverted.df = w2df_dict\n    inverted.term_total = w2term_total_dict\n\n    inverted.DL_for_index = docs_length_dict\n    inverted.len_DL_for_index = len(docs_length_dict)\n    # write the global stats out\n    inverted.write_index('.', index_name)\n    return inverted\n\n\ndef get_titles_dict(parquetFile):\n    return parquetFile.select(\"id\", \"title\").rdd.collectAsMap()\n\ndef get_doc_pairs(parquetFile):\n    doc_text_pairs = parquetFile.select(\"text\", \"id\").rdd\n    doc_title_pairs = parquetFile.select(\"title\", \"id\").rdd\n    data_anchor_pairs = parquetFile.select(\"anchor_text\", \"id\").rdd\n\n    data_anchor_pairs = data_anchor_pairs.map(lambda x: {(x[1], y[1]) for y in x[0]}).flatMap(\n        lambda x: x).groupByKey().mapValues(lambda x: \" \".join(x)).map(lambda x: (x[1], x[0]))\n\n    return doc_text_pairs, doc_title_pairs, data_anchor_pairs\n\ndoc_text_pairs, doc_title_pairs, data_anchor_pairs = get_doc_pairs(parquetFile)\n\nbody_index = create_index(doc_text_pairs, 'body', 0, 50)\ntitle_index = create_index(doc_title_pairs, 'title', 1, 0)\nanchor_index = create_index(data_anchor_pairs, 'anchor', 2, 0)\n\nsave_DL(DL, 'DL')\n\nbm25_body = BM25_from_index(body_index, DL)\nbm25_title = BM25_from_index(title_index, DL)\nbm25_anchor = BM25_from_index(anchor_index, DL)\n\nsave_other(docs_length_dict_body, 'docs_length_dict_body')\nsave_other(docs_length_dict_title, 'docs_length_dict_title')\nsave_other(docs_length_dict_anchor, 'docs_length_dict_anchor')\n\nsave_other(bm25_body, 'bm25_body')\nsave_other(bm25_title, 'bm25_title')\nsave_other(bm25_anchor, 'bm25_anchor')\n\n\n# # upload to gs\nsrc = 'docs_length_dict_body.pkl'\ndst = f'gs://{bucket_name}/{src}'\n!gsutil cp $src $dst\n\nsrc = 'docs_length_dict_title.pkl'\ndst = f'gs://{bucket_name}/{src}'\n!gsutil cp $src $dst\n\nsrc = 'docs_length_dict_anchor.pkl'\ndst = f'gs://{bucket_name}/{src}'\n!gsutil cp $src $dst\n\nDL_src = 'DL.pkl'\nDL_dst = f'gs://{bucket_name}/{DL_src}'\n!gsutil cp $DL_src $DL_dst\n\nsrc = 'body.pkl'\ndst = f'gs://{bucket_name}/{src}'\n!gsutil cp $src $dst\n\nsrc = 'title.pkl'\ndst = f'gs://{bucket_name}/{src}'\n!gsutil cp $src $dst\n\nsrc = 'anchor.pkl'\ndst = f'gs://{bucket_name}/{src}'\n!gsutil cp $src $dst\n\nsrc = 'bm25_body.pkl'\ndst = f'gs://{bucket_name}/{src}'\n!gsutil cp $src $dst\n\nsrc = 'bm25_title.pkl'\ndst = f'gs://{bucket_name}/{src}'\n!gsutil cp $src $dst\n\nsrc = 'bm25_anchor.pkl'\ndst = f'gs://{bucket_name}/{src}'\n!gsutil cp $src $dst",
      "metadata": {
        "collapsed": false,
        "jupyter": {
          "outputs_hidden": false
        }
      },
      "execution_count": null,
      "outputs": [
        {
          "name": "stderr",
          "output_type": "stream",
          "text": "                                                                                \r"
        },
        {
          "name": "stdout",
          "output_type": "stream",
          "text": "Copying file://docs_length_dict_title.pkl [Content-Type=application/octet-stream]...\n\n/ [1 files][    5.0 B/    5.0 B]                                                \n\nOperation completed over 1 objects/5.0 B.                                        \n\nCopying file://docs_length_dict_anchor.pkl [Content-Type=application/octet-stream]...\n\n/ [1 files][    5.0 B/    5.0 B]                                                \n\nOperation completed over 1 objects/5.0 B.                                        \n\nCopying file://docs_length_dict_body.pkl [Content-Type=application/octet-stream]...\n\n/ [1 files][    5.0 B/    5.0 B]                                                \n\nOperation completed over 1 objects/5.0 B.                                        \n\nCopying file://DL.pkl [Content-Type=application/octet-stream]...\n\n/ [1 files][ 44.7 MiB/ 44.7 MiB]                                                \n\nOperation completed over 1 objects/44.7 MiB.                                     \n\nCopying file://body.pkl [Content-Type=application/octet-stream]...\n\n/ [1 files][ 30.9 MiB/ 30.9 MiB]                                                \n\nOperation completed over 1 objects/30.9 MiB.                                     \n\nCopying file://title.pkl [Content-Type=application/octet-stream]...\n\n\\ [1 files][112.8 MiB/112.8 MiB]                                                \n\nOperation completed over 1 objects/112.8 MiB.                                    \n\nCopying file://anchor.pkl [Content-Type=application/octet-stream]...\n\n==> NOTE: You are uploading one or more large file(s), which would run          \n\nsignificantly faster if you enable parallel composite uploads. This\n\nfeature can be enabled by editing the\n\n\"parallel_composite_upload_threshold\" value in your .boto\n\nconfiguration file. However, note that if you do this large files will\n\nbe uploaded as `composite objects\n\n<https://cloud.google.com/storage/docs/composite-objects>`_,which\n\nmeans that any user who downloads such objects will need to have a\n\ncompiled crcmod installed (see \"gsutil help crcmod\"). This is because\n\nwithout a compiled crcmod, computing checksums on composite objects is\n\nso slow that gsutil disables downloads of composite objects.\n\n\n\n| [1 files][160.7 MiB/160.7 MiB]                                                \n\nOperation completed over 1 objects/160.7 MiB.                                    \n\nCopying file://bm25_body.pkl [Content-Type=application/octet-stream]...\n\n- [1 files][ 77.9 MiB/ 77.9 MiB]                                                \n\nOperation completed over 1 objects/77.9 MiB.                                     \n\nCopying file://bm25_title.pkl [Content-Type=application/octet-stream]...\n\n==> NOTE: You are uploading one or more large file(s), which would run          \n\nsignificantly faster if you enable parallel composite uploads. This\n\nfeature can be enabled by editing the\n\n\"parallel_composite_upload_threshold\" value in your .boto\n\nconfiguration file. However, note that if you do this large files will\n\nbe uploaded as `composite objects\n\n<https://cloud.google.com/storage/docs/composite-objects>`_,which\n\nmeans that any user who downloads such objects will need to have a\n\ncompiled crcmod installed (see \"gsutil help crcmod\"). This is because\n\nwithout a compiled crcmod, computing checksums on composite objects is\n\nso slow that gsutil disables downloads of composite objects.\n\n\n\n| [1 files][165.4 MiB/165.4 MiB]                                                \n\nOperation completed over 1 objects/165.4 MiB.                                    \n\nCopying file://bm25_anchor.pkl [Content-Type=application/octet-stream]...\n\n==> NOTE: You are uploading one or more large file(s), which would run          \n\nsignificantly faster if you enable parallel composite uploads. This\n\nfeature can be enabled by editing the\n\n\"parallel_composite_upload_threshold\" value in your .boto\n\nconfiguration file. However, note that if you do this large files will\n\nbe uploaded as `composite objects\n\n<https://cloud.google.com/storage/docs/composite-objects>`_,which\n\nmeans that any user who downloads such objects will need to have a\n\ncompiled crcmod installed (see \"gsutil help crcmod\"). This is because\n\nwithout a compiled crcmod, computing checksums on composite objects is\n\nso slow that gsutil disables downloads of composite objects.\n\n\n\n| [1 files][216.6 MiB/216.6 MiB]                                                \n\nOperation completed over 1 objects/216.6 MiB.                                    \n"
        }
      ]
    },
    {
      "cell_type": "code",
      "source": "import gcsfs\n\nGCSFS = gcsfs.GCSFileSystem()\nname = 'DL'\nwith GCSFS.open(f\"gs://oded_318963386/{name}.pkl\", 'rb') as f:\n    DL = pickle.load(f)",
      "metadata": {
        "collapsed": false,
        "jupyter": {
          "outputs_hidden": false
        }
      },
      "execution_count": 11,
      "outputs": []
    },
    {
      "cell_type": "code",
      "source": "import gcsfs\n\nGCSFS = gcsfs.GCSFileSystem()\nname = 'anchor'\nwith GCSFS.open(f\"gs://oded_318963386/{name}.pkl\", 'rb') as f:\n    anchor_index = pickle.load(f)",
      "metadata": {
        "collapsed": false,
        "jupyter": {
          "outputs_hidden": false
        }
      },
      "execution_count": 25,
      "outputs": []
    },
    {
      "cell_type": "code",
      "source": "anchor_index._posting_list = {}",
      "metadata": {
        "collapsed": false,
        "jupyter": {
          "outputs_hidden": false
        }
      },
      "execution_count": 26,
      "outputs": []
    },
    {
      "cell_type": "code",
      "source": "bm25_anchor = BM25_from_index(anchor_index, DL)",
      "metadata": {
        "collapsed": false,
        "jupyter": {
          "outputs_hidden": false
        }
      },
      "execution_count": 27,
      "outputs": []
    },
    {
      "cell_type": "code",
      "source": "anchor_index.df['mous']",
      "metadata": {
        "collapsed": false,
        "jupyter": {
          "outputs_hidden": false
        }
      },
      "execution_count": 38,
      "outputs": [
        {
          "execution_count": 38,
          "output_type": "execute_result",
          "data": {
            "text/plain": [
              "7730"
            ]
          },
          "metadata": {}
        }
      ]
    },
    {
      "cell_type": "code",
      "source": "stemmer.stem('mouse')",
      "metadata": {
        "collapsed": false,
        "jupyter": {
          "outputs_hidden": false
        }
      },
      "execution_count": 37,
      "outputs": [
        {
          "execution_count": 37,
          "output_type": "execute_result",
          "data": {
            "text/plain": [
              "'mous'"
            ]
          },
          "metadata": {}
        }
      ]
    },
    {
      "cell_type": "code",
      "source": "save_other(bm25_anchor, 'bm25_anchor')\nsrc = 'bm25_anchor.pkl'\ndst = f'gs://{bucket_name}/{src}'\n!gsutil cp $src $dst",
      "metadata": {
        "collapsed": false,
        "jupyter": {
          "outputs_hidden": false
        }
      },
      "execution_count": 28,
      "outputs": [
        {
          "name": "stdout",
          "output_type": "stream",
          "text": "Copying file://bm25_anchor.pkl [Content-Type=application/octet-stream]...\n\n==> NOTE: You are uploading one or more large file(s), which would run          \n\nsignificantly faster if you enable parallel composite uploads. This\n\nfeature can be enabled by editing the\n\n\"parallel_composite_upload_threshold\" value in your .boto\n\nconfiguration file. However, note that if you do this large files will\n\nbe uploaded as `composite objects\n\n<https://cloud.google.com/storage/docs/composite-objects>`_,which\n\nmeans that any user who downloads such objects will need to have a\n\ncompiled crcmod installed (see \"gsutil help crcmod\"). This is because\n\nwithout a compiled crcmod, computing checksums on composite objects is\n\nso slow that gsutil disables downloads of composite objects.\n\n\n\n| [1 files][216.0 MiB/216.0 MiB]                                                \n\nOperation completed over 1 objects/216.0 MiB.                                    \n"
        }
      ]
    },
    {
      "cell_type": "code",
      "source": "anchor_index_5_func._posting_list = defaultdict(list)",
      "metadata": {
        "collapsed": false,
        "jupyter": {
          "outputs_hidden": false
        }
      },
      "execution_count": 14,
      "outputs": []
    },
    {
      "cell_type": "code",
      "source": "anchor_index_5_func.doc_to_norm = dict_anchor_doc_to_norm",
      "metadata": {
        "collapsed": false,
        "jupyter": {
          "outputs_hidden": false
        }
      },
      "execution_count": 16,
      "outputs": []
    },
    {
      "cell_type": "code",
      "source": "anchor_index_5_func.write_index('.', 'anchor_5_func')\nsrc = 'anchor_5_func.pkl'\ndst = f'gs://{bucket_name}/{src}'\n!gsutil cp $src $dst\n\ntf_idf_anchor = tf_idf_from_index(anchor_index_5_func)\nsave_other(tf_idf_anchor, 'tf_idf_anchor')\n\nsrc = 'tf_idf_anchor.pkl'\ndst = f'gs://{bucket_name}/{src}'\n!gsutil cp $src $dst",
      "metadata": {
        "collapsed": false,
        "jupyter": {
          "outputs_hidden": false
        }
      },
      "execution_count": null,
      "outputs": []
    }
  ]
}