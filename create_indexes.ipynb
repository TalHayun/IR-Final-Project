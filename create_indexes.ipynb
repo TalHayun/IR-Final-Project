Requirement already satisfied: Flask in /opt/conda/miniconda3/lib/python3.8/site-packages (2.2.2)
Requirement already satisfied: importlib-metadata>=3.6.0 in /opt/conda/miniconda3/lib/python3.8/site-packages (from Flask) (5.1.0)
Requirement already satisfied: click>=8.0 in /opt/conda/miniconda3/lib/python3.8/site-packages (from Flask) (8.1.3)
Requirement already satisfied: Werkzeug>=2.2.2 in /opt/conda/miniconda3/lib/python3.8/site-packages (from Flask) (2.2.2)
Requirement already satisfied: itsdangerous>=2.0 in /opt/conda/miniconda3/lib/python3.8/site-packages (from Flask) (2.1.2)
Requirement already satisfied: Jinja2>=3.0 in /opt/conda/miniconda3/lib/python3.8/site-packages (from Flask) (3.0.3)
Requirement already satisfied: zipp>=0.5 in /opt/conda/miniconda3/lib/python3.8/site-packages (from importlib-metadata>=3.6.0->Flask) (3.11.0)
Requirement already satisfied: MarkupSafe>=2.0 in /opt/conda/miniconda3/lib/python3.8/site-packages (from Jinja2>=3.0->Flask) (2.1.1)
WARNING: Running pip as the 'root' user can result in broken permissions and conflicting behaviour with the system package manager. It is recommended to use a virtual environment instead: https://pip.pypa.io/warnings/venv
